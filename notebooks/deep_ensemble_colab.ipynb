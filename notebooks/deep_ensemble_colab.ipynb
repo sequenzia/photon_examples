{
  "nbformat": 4,
  "nbformat_minor": 0,
  "metadata": {
    "colab": {
      "name": "deep_ensemble.ipynb",
      "provenance": [],
      "background_execution": "on",
      "collapsed_sections": [],
      "authorship_tag": "ABX9TyNIN/AlfVMV92Hq9mvCnMco",
      "include_colab_link": true
    },
    "kernelspec": {
      "name": "python3",
      "display_name": "Python 3"
    },
    "language_info": {
      "name": "python"
    },
    "accelerator": "GPU",
    "gpuClass": "standard"
  },
  "cells": [
    {
      "cell_type": "markdown",
      "metadata": {
        "id": "view-in-github",
        "colab_type": "text"
      },
      "source": [
        "<a href=\"https://colab.research.google.com/github/sequenzia/photon_examples/blob/master/deep_ensemble.ipynb\" target=\"_parent\"><img src=\"https://colab.research.google.com/assets/colab-badge.svg\" alt=\"Open In Colab\"/></a>"
      ]
    },
    {
      "cell_type": "code",
      "source": [
        "temp_dir = '/temp_photon'\n",
        "dist_dir = temp_dir + '/dist/'\n",
        "imports_dir = temp_dir + '/imports/'\n",
        "data_dir = temp_dir + '/data'\n",
        "\n",
        "import os, sys\n",
        "\n",
        "if not os.path.exists(temp_dir):\n",
        "    \n",
        "    os.makedirs(temp_dir)\n",
        "    os.makedirs(dist_dir)\n",
        "    os.makedirs(imports_dir)\n",
        "    os.makedirs(data_dir)\n",
        "    \n",
        "    !gsutil -m cp -r gs://photon-ml-public/dist/* $dist_dir\n",
        "    !gsutil -m cp -r gs://photon-ml-public/examples/* $imports_dir\n",
        "    !gsutil -m cp -r gs://photon-ml-public/data/* $data_dir\n",
        "\n",
        "try:\n",
        "    from photon import Photon\n",
        "except ModuleNotFoundError:\n",
        "    !pip install photon-ml   \n",
        "    from photon import Photon\n",
        "\n",
        "sys.path.append(imports_dir)\n",
        "\n",
        "from configs import ensemble_config as config"
      ],
      "metadata": {
        "id": "axyPOdK1INEH"
      },
      "execution_count": null,
      "outputs": []
    },
    {
      "cell_type": "code",
      "source": [
        "config.neon_config['data_dir'] = data_dir\n",
        "config.neon_config['data_fn'] = 'SPY_1T_2016_2017'\n",
        "\n",
        "photon = Photon(run_dir=temp_dir)\n",
        "\n",
        "neon = photon.Networks(photon=photon, **config.neon_config)\n",
        "argon = photon.Trees(network=neon, **config.argon_config)\n",
        "muon = photon.Branches(trees=[argon], **config.muon_config)\n",
        "\n",
        "run = neon.gamma.run_network(branches=[muon])"
      ],
      "metadata": {
        "id": "3iEErsojL2LO"
      },
      "execution_count": null,
      "outputs": []
    }
  ]
}